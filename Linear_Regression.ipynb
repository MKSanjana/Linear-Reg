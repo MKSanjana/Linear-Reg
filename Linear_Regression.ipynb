{
  "nbformat": 4,
  "nbformat_minor": 0,
  "metadata": {
    "colab": {
      "name": "Linear Regression.ipynb",
      "provenance": []
    },
    "kernelspec": {
      "name": "python3",
      "display_name": "Python 3"
    },
    "language_info": {
      "name": "python"
    }
  },
  "cells": [
    {
      "cell_type": "code",
      "metadata": {
        "id": "KjC0jbMctNxc"
      },
      "source": [
        "import pandas as pd\n",
        "import numpy as np\n",
        "import matplotlib.pyplot as plt\n",
        "import seaborn as sns\n",
        "from sklearn.model_selection import train_test_split\n",
        "from sklearn.metrics import r2_score"
      ],
      "execution_count": null,
      "outputs": []
    },
    {
      "cell_type": "code",
      "metadata": {
        "id": "5vMztvXJu6M4"
      },
      "source": [
        "df_train = pd.read_csv('/content/train.csv')\n",
        "df_test = pd.read_csv('/content/test.csv')"
      ],
      "execution_count": null,
      "outputs": []
    },
    {
      "cell_type": "code",
      "metadata": {
        "id": "sS6OIlHEvB5Y"
      },
      "source": [
        "df = pd.concat((df_train, df_test), axis=0).reset_index(drop=True)"
      ],
      "execution_count": null,
      "outputs": []
    },
    {
      "cell_type": "code",
      "metadata": {
        "id": "xF3ct8YrvCjJ",
        "colab": {
          "base_uri": "https://localhost:8080/"
        },
        "outputId": "d9460ce5-cf2d-4dd9-b70c-76610eecceb5"
      },
      "source": [
        "df.info()"
      ],
      "execution_count": null,
      "outputs": [
        {
          "output_type": "stream",
          "name": "stdout",
          "text": [
            "<class 'pandas.core.frame.DataFrame'>\n",
            "RangeIndex: 1000 entries, 0 to 999\n",
            "Data columns (total 2 columns):\n",
            " #   Column  Non-Null Count  Dtype  \n",
            "---  ------  --------------  -----  \n",
            " 0   x       1000 non-null   float64\n",
            " 1   y       999 non-null    float64\n",
            "dtypes: float64(2)\n",
            "memory usage: 15.8 KB\n"
          ]
        }
      ]
    },
    {
      "cell_type": "code",
      "metadata": {
        "id": "JLTieUllvCmw",
        "colab": {
          "base_uri": "https://localhost:8080/"
        },
        "outputId": "e701c526-396b-4e28-dd1b-a0f68c1e5731"
      },
      "source": [
        "df.isna().sum()"
      ],
      "execution_count": null,
      "outputs": [
        {
          "output_type": "execute_result",
          "data": {
            "text/plain": [
              "x    0\n",
              "y    1\n",
              "dtype: int64"
            ]
          },
          "metadata": {},
          "execution_count": 5
        }
      ]
    },
    {
      "cell_type": "code",
      "metadata": {
        "id": "A7HRxbvvvCqJ",
        "colab": {
          "base_uri": "https://localhost:8080/"
        },
        "outputId": "b3431573-afa5-4011-b319-8fa053494314"
      },
      "source": [
        "df.duplicated().sum()"
      ],
      "execution_count": null,
      "outputs": [
        {
          "output_type": "execute_result",
          "data": {
            "text/plain": [
              "0"
            ]
          },
          "metadata": {},
          "execution_count": 6
        }
      ]
    },
    {
      "cell_type": "code",
      "metadata": {
        "id": "4PDCxzDNvOKR"
      },
      "source": [
        "df = df.dropna().drop_duplicates()"
      ],
      "execution_count": null,
      "outputs": []
    },
    {
      "cell_type": "code",
      "metadata": {
        "id": "TAA4wkdmvONk",
        "colab": {
          "base_uri": "https://localhost:8080/",
          "height": 299
        },
        "outputId": "7f4adc58-a899-449f-c828-d75fd08ab36c"
      },
      "source": [
        "df.describe()"
      ],
      "execution_count": null,
      "outputs": [
        {
          "output_type": "execute_result",
          "data": {
            "text/html": [
              "<div>\n",
              "<style scoped>\n",
              "    .dataframe tbody tr th:only-of-type {\n",
              "        vertical-align: middle;\n",
              "    }\n",
              "\n",
              "    .dataframe tbody tr th {\n",
              "        vertical-align: top;\n",
              "    }\n",
              "\n",
              "    .dataframe thead th {\n",
              "        text-align: right;\n",
              "    }\n",
              "</style>\n",
              "<table border=\"1\" class=\"dataframe\">\n",
              "  <thead>\n",
              "    <tr style=\"text-align: right;\">\n",
              "      <th></th>\n",
              "      <th>x</th>\n",
              "      <th>y</th>\n",
              "    </tr>\n",
              "  </thead>\n",
              "  <tbody>\n",
              "    <tr>\n",
              "      <th>count</th>\n",
              "      <td>999.000000</td>\n",
              "      <td>999.000000</td>\n",
              "    </tr>\n",
              "    <tr>\n",
              "      <th>mean</th>\n",
              "      <td>50.291291</td>\n",
              "      <td>50.319804</td>\n",
              "    </tr>\n",
              "    <tr>\n",
              "      <th>std</th>\n",
              "      <td>28.808925</td>\n",
              "      <td>29.089111</td>\n",
              "    </tr>\n",
              "    <tr>\n",
              "      <th>min</th>\n",
              "      <td>0.000000</td>\n",
              "      <td>-3.839981</td>\n",
              "    </tr>\n",
              "    <tr>\n",
              "      <th>25%</th>\n",
              "      <td>25.000000</td>\n",
              "      <td>25.185430</td>\n",
              "    </tr>\n",
              "    <tr>\n",
              "      <th>50%</th>\n",
              "      <td>50.000000</td>\n",
              "      <td>49.926397</td>\n",
              "    </tr>\n",
              "    <tr>\n",
              "      <th>75%</th>\n",
              "      <td>74.500000</td>\n",
              "      <td>74.475252</td>\n",
              "    </tr>\n",
              "    <tr>\n",
              "      <th>max</th>\n",
              "      <td>100.000000</td>\n",
              "      <td>108.871618</td>\n",
              "    </tr>\n",
              "  </tbody>\n",
              "</table>\n",
              "</div>"
            ],
            "text/plain": [
              "                x           y\n",
              "count  999.000000  999.000000\n",
              "mean    50.291291   50.319804\n",
              "std     28.808925   29.089111\n",
              "min      0.000000   -3.839981\n",
              "25%     25.000000   25.185430\n",
              "50%     50.000000   49.926397\n",
              "75%     74.500000   74.475252\n",
              "max    100.000000  108.871618"
            ]
          },
          "metadata": {},
          "execution_count": 8
        }
      ]
    },
    {
      "cell_type": "code",
      "metadata": {
        "id": "FcqkQGIcvOQk",
        "colab": {
          "base_uri": "https://localhost:8080/",
          "height": 269
        },
        "outputId": "65066686-b027-4a11-be8c-7ae2af2eea54"
      },
      "source": [
        "sns.heatmap(df.corr(), annot = True, cmap=\"tab20c\");"
      ],
      "execution_count": null,
      "outputs": [
        {
          "output_type": "display_data",
          "data": {
            "image/png": "[encoded data removed]",
            "text/plain": [
              "<Figure size 432x288 with 2 Axes>"
            ]
          },
          "metadata": {
            "needs_background": "light"
          }
        }
      ]
    },
    {
      "cell_type": "code",
      "metadata": {
        "id": "HCFvFO4CvV8T",
        "colab": {
          "base_uri": "https://localhost:8080/",
          "height": 295
        },
        "outputId": "643e4540-1452-4914-d01b-da4537816202"
      },
      "source": [
        "plt.xlabel('x')\n",
        "plt.ylabel('y')\n",
        "plt.title('Relationship between x and y')\n",
        "plt.plot(df.iloc[:,0],df.iloc[:,1],'ro', mec= 'k');\n",
        "plt.legend(['Dataset']);"
      ],
      "execution_count": null,
      "outputs": [
        {
          "output_type": "display_data",
          "data": {
            "image/png": "[encoded data removed]",
            "text/plain": [
              "<Figure size 432x288 with 1 Axes>"
            ]
          },
          "metadata": {
            "needs_background": "light"
          }
        }
      ]
    },
    {
      "cell_type": "code",
      "metadata": {
        "id": "jncdOYrcvV_b"
      },
      "source": [
        "X = df.iloc[:,:-1]\n",
        "y = df.iloc[:,1]"
      ],
      "execution_count": null,
      "outputs": []
    },
    {
      "cell_type": "code",
      "metadata": {
        "id": "-sF0mmlPvc5d"
      },
      "source": [
        "X_train, X_test, y_train, y_test = train_test_split(X, y, test_size=1/4, random_state=42)\n",
        "X_train = X_train.reset_index(drop=True) \n",
        "y_train = y_train.reset_index(drop=True) \n",
        "X_test = X_test.reset_index(drop=True) \n",
        "y_test = y_test.reset_index(drop=True) "
      ],
      "execution_count": null,
      "outputs": []
    },
    {
      "cell_type": "code",
      "metadata": {
        "id": "Ut3H25gUvc9B"
      },
      "source": [
        "m,n = X_train.values.shape\n",
        "o,p = X_test.values.shape\n",
        "X_train = pd.concat((pd.DataFrame(np.ones((m, 1)), columns= ['Bias']),X_train),axis=1)\n",
        "X_test = pd.concat((pd.DataFrame(np.ones((o, 1)), columns= ['Bias']),X_test),axis=1)"
      ],
      "execution_count": null,
      "outputs": []
    },
    {
      "cell_type": "code",
      "metadata": {
        "id": "Mb2VhpruvdJF"
      },
      "source": [
        "def LR_Cost(X: pd.DataFrame, y: pd.Series, theta: np.array) -> float:\n",
        "    m, n = X.shape \n",
        "    residual = y - X @ theta\n",
        "    CF_LR = (1/m) * (residual.T @ residual)\n",
        "    return CF_LR"
      ],
      "execution_count": null,
      "outputs": []
    },
    {
      "cell_type": "code",
      "metadata": {
        "id": "kgh2o9ZrvdOW"
      },
      "source": [
        "def LS_NE(X: pd.DataFrame, y: pd.Series) -> np.array:\n",
        "    return np.linalg.solve((X.T @ X), X.T @ y)"
      ],
      "execution_count": null,
      "outputs": []
    },
    {
      "cell_type": "code",
      "metadata": {
        "id": "kFtFptYvvWE9"
      },
      "source": [
        "def predict(X: pd.DataFrame, theta_estimate: np.array) -> pd.Series:\n",
        "    return X @ theta_estimate"
      ],
      "execution_count": null,
      "outputs": []
    },
    {
      "cell_type": "code",
      "metadata": {
        "id": "7h8eBsaAv3MB"
      },
      "source": [
        "class LinearRegression():\n",
        "    def __init__(self):\n",
        "        self.theta = None\n",
        "    \n",
        "    def fit(self, X: pd.DataFrame, y: pd.Series) -> np.array:\n",
        "        self.theta = np.linalg.solve((X.T @ X), X.T @ y)\n",
        "\n",
        "    def predict(self, X: pd.DataFrame) -> pd.Series:\n",
        "        y_pred = X @ self.theta\n",
        "        return y_pred\n",
        "    \n",
        "    def LR_Cost(self, X: pd.DataFrame, y: pd.Series) -> float:\n",
        "        m, n = X.shape \n",
        "        residual = y - X @ self.theta\n",
        "        CF_LR = (1/m) * (residual.T @ residual)\n",
        "        return CF_LR"
      ],
      "execution_count": null,
      "outputs": []
    },
    {
      "cell_type": "code",
      "metadata": {
        "id": "ffkBKHxgv3UF"
      },
      "source": [
        "pop_prof_model = LinearRegression()"
      ],
      "execution_count": null,
      "outputs": []
    },
    {
      "cell_type": "code",
      "metadata": {
        "id": "blyMAO1SwQey",
        "colab": {
          "base_uri": "https://localhost:8080/"
        },
        "outputId": "94c5977a-8784-40fd-c7a8-dee39f9bcaf4"
      },
      "source": [
        "pop_prof_model.fit(X_train, y_train)\n",
        "\n",
        "y_pred_train = pop_prof_model.predict(X_train)\n",
        "y_pred_test = pop_prof_model.predict(X_test)\n",
        "\n",
        "MSE_train = pop_prof_model.LR_Cost(X_train, y_train)\n",
        "MSE_test = pop_prof_model.LR_Cost(X_test, y_test)\n",
        "print(\"Theta estimates are: {}\".format(pop_prof_model.theta))\n",
        "print(\"Training dataset mean squared error: {}\".format(MSE_train))\n",
        "print(\"Test dataset mean squared error: {}\".format(MSE_test))\n",
        "print(\"Train dataset R2 score: {}\".format(r2_score(y_train,y_pred_train)))\n",
        "print(\"Test dataset R2 score: {}\".format(r2_score(y_test,y_pred_test)))"
      ],
      "execution_count": null,
      "outputs": [
        {
          "output_type": "stream",
          "name": "stdout",
          "text": [
            "Theta estimates are: [-0.29654476  1.00523472]\n",
            "Training dataset mean squared error: 8.088375976934048\n",
            "Test dataset mean squared error: 9.003332816736535\n",
            "Train dataset R2 score: 0.9904790394652241\n",
            "Test dataset R2 score: 0.9891879937675698\n"
          ]
        }
      ]
    },
    {
      "cell_type": "code",
      "metadata": {
        "id": "puyxshyswQiJ",
        "colab": {
          "base_uri": "https://localhost:8080/",
          "height": 295
        },
        "outputId": "0f6ee552-ef42-40c4-cd70-0ddcb7210a51"
      },
      "source": [
        "plt.xlabel('x')\n",
        "plt.ylabel('y')\n",
        "plt.title('Relationship between x and y')\n",
        "plt.plot(X_test.iloc[:,1],y_test,'ro', mec= 'k');\n",
        "plt.plot(X_test.iloc[:,1],y_pred_test,'-b', mec= 'k');\n",
        "plt.legend(['Dataset', 'Linear Regression']);"
      ],
      "execution_count": null,
      "outputs": [
        {
          "output_type": "display_data",
          "data": {
            "image/png": "[encoded data removed]",
            "text/plain": [
              "<Figure size 432x288 with 1 Axes>"
            ]
          },
          "metadata": {
            "needs_background": "light"
          }
        }
      ]
    }
  ]
}